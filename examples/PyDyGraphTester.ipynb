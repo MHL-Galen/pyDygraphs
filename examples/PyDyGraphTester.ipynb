{
 "cells": [
  {
   "cell_type": "code",
   "execution_count": 5,
   "metadata": {
    "collapsed": true
   },
   "outputs": [],
   "source": [
    "# Import pydygraphs and numpy\n",
    "import sys\n",
    "sys.path.append(\"../\")\n",
    "\n",
    "import pydygraphs\n",
    "import numpy as np"
   ]
  },
  {
   "cell_type": "code",
   "execution_count": 6,
   "metadata": {},
   "outputs": [
    {
     "data": {
      "text/html": [
       "\n",
       "    <script src=\"http://dygraphs.com/dygraph-combined.js\"></script>\n",
       "    <table style=\"width: 600px; border-style: hidden;\">\n",
       "    <tr><td style=\"border-style: hidden;\"><div id='Figure4' style=\"width: 600px; height: 400px;\"></div></td></tr>\n",
       "    <tr><td style=\"border-style: hidden;\"><div style=\"text-align:right; width: 600px; height: auto;\"; id='Figure4_legend'></div></td></tr>\n",
       "    </table>\n",
       "    "
      ],
      "text/plain": [
       "<IPython.core.display.HTML object>"
      ]
     },
     "metadata": {},
     "output_type": "display_data"
    },
    {
     "data": {
      "text/html": [
       "\n",
       "        <script type=\"text/javascript\">\n",
       "        function convertToDataTable_Figure4(d) {\n",
       "          var columns = _.keys(d);\n",
       "          var x_col = '_x_axis_label_';\n",
       "          columns.splice(columns.indexOf(x_col), 1);  // Get index column. (prob index). Don't need to do this just to plot all\n",
       "          var out = [];\n",
       "          var i = 0;\n",
       "          for (var k in d[x_col]) {\n",
       "            var row = [d[x_col][k]];\n",
       "            columns.forEach(function(col) {\n",
       "              row.push(d[col][k]);\n",
       "            });\n",
       "            out.push(row);\n",
       "          }\n",
       "          return {data:out, labels:[x_col].concat(columns)};\n",
       "        }\n",
       "\n",
       "        function handle_output_Figure4(out) {\n",
       "          var json = out.content.data['text/plain'];\n",
       "          var data = JSON.parse(eval(json));\n",
       "          var tabular = convertToDataTable_Figure4(data);\n",
       "          \n",
       "            g = new Dygraph(document.getElementById('Figure4'), tabular.data, {\n",
       "                legend: 'always',\n",
       "                labels: tabular.labels,\n",
       "                labelsDivStyles: { 'textAlign': 'right' },\n",
       "                rollPeriod: 1,\n",
       "                showRoller: true,\n",
       "                animatedZooms: true,\n",
       "            \n",
       "                showRoller: true,\n",
       "            \n",
       "                colors: [\"purple\",\"blue\"],\n",
       "            \n",
       "                title: 'Figure 1',\n",
       "                xlabel: 'Series',\n",
       "            \n",
       "                ylabel: 'Value',\n",
       "            \n",
       "               labelsDiv: 'Figure4_legend',\n",
       "               errorBars: false\n",
       "          })\n",
       "        }\n",
       "        var kernel = IPython.notebook.kernel;\n",
       "        var callbacks_Figure4 = { 'iopub' : {'output' : handle_output_Figure4}};\n",
       "        kernel.execute(\"pydygraphs.__PYDYGRAPH__FIGURE__JSON__[4]\", callbacks_Figure4, {silent:false});\n",
       "        </script>\n",
       "        "
      ],
      "text/plain": [
       "<IPython.core.display.HTML object>"
      ]
     },
     "metadata": {},
     "output_type": "display_data"
    }
   ],
   "source": [
    "# Single Figure Example\n",
    "fig = pydygraphs.figure(width = 600, height = 400)\n",
    "\n",
    "# Form data for plot\n",
    "x = np.array(range(1000))\n",
    "y = [np.sin(np.random.rand(1000)),-np.sin(np.random.rand(1000))]\n",
    "\n",
    "# Plot figure\n",
    "fig.plot(x,y, color=['purple','blue'])\n",
    "fig.title(\"Figure 1\")\n",
    "fig.xlabel('Series')\n",
    "fig.ylabel('Value')\n",
    "\n",
    "# Show figure:\n",
    "fig.show()"
   ]
  },
  {
   "cell_type": "code",
   "execution_count": 7,
   "metadata": {},
   "outputs": [
    {
     "data": {
      "text/html": [
       "<script src=\"http://dygraphs.com/dygraph-combined.js\"></script>\n",
       "                    <table style=\"width: 1050px; border-style: hidden;\">\n",
       "                        <tr>\n",
       "                            <th COLSPAN='1'>\n",
       "                                <h1 align=\"center\">PyDyGraphs Example Subplot</h1>\n",
       "                            </th>\n",
       "                        <tr><tr><td style=\"border-style: hidden;\">\n",
       "    <script src=\"http://dygraphs.com/dygraph-combined.js\"></script>\n",
       "    <table style=\"width: 1050.0px; border-style: hidden;\">\n",
       "    <tr><td style=\"border-style: hidden;\"><div id='Figure5' style=\"width: 1050.0px; height: 200.0px;\"></div></td></tr>\n",
       "    <tr><td style=\"border-style: hidden;\"><div style=\"text-align:right; width: 1050.0px; height: auto;\"; id='Figure5_legend'></div></td></tr>\n",
       "    </table>\n",
       "    </td></tr><tr><td style=\"border-style: hidden;\">\n",
       "    <script src=\"http://dygraphs.com/dygraph-combined.js\"></script>\n",
       "    <table style=\"width: 1050.0px; border-style: hidden;\">\n",
       "    <tr><td style=\"border-style: hidden;\"><div id='Figure6' style=\"width: 1050.0px; height: 200.0px;\"></div></td></tr>\n",
       "    <tr><td style=\"border-style: hidden;\"><div style=\"text-align:right; width: 1050.0px; height: auto;\"; id='Figure6_legend'></div></td></tr>\n",
       "    </table>\n",
       "    </td></tr></table>"
      ],
      "text/plain": [
       "<IPython.core.display.HTML object>"
      ]
     },
     "metadata": {},
     "output_type": "display_data"
    },
    {
     "data": {
      "text/html": [
       "\n",
       "        <script type=\"text/javascript\">\n",
       "        function convertToDataTable_Figure5(d) {\n",
       "          var columns = _.keys(d);\n",
       "          var x_col = '_x_axis_label_';\n",
       "          columns.splice(columns.indexOf(x_col), 1);  // Get index column. (prob index). Don't need to do this just to plot all\n",
       "          var out = [];\n",
       "          var i = 0;\n",
       "          for (var k in d[x_col]) {\n",
       "            var row = [d[x_col][k]];\n",
       "            columns.forEach(function(col) {\n",
       "              row.push(d[col][k]);\n",
       "            });\n",
       "            out.push(row);\n",
       "          }\n",
       "          return {data:out, labels:[x_col].concat(columns)};\n",
       "        }\n",
       "\n",
       "        function handle_output_Figure5(out) {\n",
       "          var json = out.content.data['text/plain'];\n",
       "          var data = JSON.parse(eval(json));\n",
       "          var tabular = convertToDataTable_Figure5(data);\n",
       "          \n",
       "            g = new Dygraph(document.getElementById('Figure5'), tabular.data, {\n",
       "                legend: 'always',\n",
       "                labels: tabular.labels,\n",
       "                labelsDivStyles: { 'textAlign': 'right' },\n",
       "                rollPeriod: 1,\n",
       "                showRoller: true,\n",
       "                animatedZooms: true,\n",
       "            \n",
       "                showRoller: true,\n",
       "            \n",
       "                title: 'Figure 1',\n",
       "                xlabel: 'Series',\n",
       "            \n",
       "                ylabel: 'Value',\n",
       "            \n",
       "               labelsDiv: 'Figure5_legend',\n",
       "               errorBars: false\n",
       "          })\n",
       "        }\n",
       "        var kernel = IPython.notebook.kernel;\n",
       "        var callbacks_Figure5 = { 'iopub' : {'output' : handle_output_Figure5}};\n",
       "        kernel.execute(\"pydygraphs.__PYDYGRAPH__FIGURE__JSON__[5]\", callbacks_Figure5, {silent:false});\n",
       "        </script>\n",
       "        "
      ],
      "text/plain": [
       "<IPython.core.display.HTML object>"
      ]
     },
     "metadata": {},
     "output_type": "display_data"
    },
    {
     "data": {
      "text/html": [
       "\n",
       "        <script type=\"text/javascript\">\n",
       "        function convertToDataTable_Figure6(d) {\n",
       "          var columns = _.keys(d);\n",
       "          var x_col = '_x_axis_label_';\n",
       "          columns.splice(columns.indexOf(x_col), 1);  // Get index column. (prob index). Don't need to do this just to plot all\n",
       "          var out = [];\n",
       "          var i = 0;\n",
       "          for (var k in d[x_col]) {\n",
       "            var row = [d[x_col][k]];\n",
       "            columns.forEach(function(col) {\n",
       "              row.push(d[col][k]);\n",
       "            });\n",
       "            out.push(row);\n",
       "          }\n",
       "          return {data:out, labels:[x_col].concat(columns)};\n",
       "        }\n",
       "\n",
       "        function handle_output_Figure6(out) {\n",
       "          var json = out.content.data['text/plain'];\n",
       "          var data = JSON.parse(eval(json));\n",
       "          var tabular = convertToDataTable_Figure6(data);\n",
       "          \n",
       "            g = new Dygraph(document.getElementById('Figure6'), tabular.data, {\n",
       "                legend: 'always',\n",
       "                labels: tabular.labels,\n",
       "                labelsDivStyles: { 'textAlign': 'right' },\n",
       "                rollPeriod: 1,\n",
       "                showRoller: true,\n",
       "                animatedZooms: true,\n",
       "            \n",
       "                showRoller: false,\n",
       "            \n",
       "                colors: [\"orange\"],\n",
       "            \n",
       "                title: 'Figure 2',\n",
       "                xlabel: 'Series',\n",
       "            \n",
       "                ylabel: 'Value',\n",
       "            \n",
       "                showRangeSelector: true,\n",
       "                rangeSelectorHeight: 65,\n",
       "            \n",
       "               labelsDiv: 'Figure6_legend',\n",
       "               errorBars: false\n",
       "          })\n",
       "        }\n",
       "        var kernel = IPython.notebook.kernel;\n",
       "        var callbacks_Figure6 = { 'iopub' : {'output' : handle_output_Figure6}};\n",
       "        kernel.execute(\"pydygraphs.__PYDYGRAPH__FIGURE__JSON__[6]\", callbacks_Figure6, {silent:false});\n",
       "        </script>\n",
       "        "
      ],
      "text/plain": [
       "<IPython.core.display.HTML object>"
      ]
     },
     "metadata": {},
     "output_type": "display_data"
    }
   ],
   "source": [
    "# Subplot example\n",
    "[fig1],[fig2] = pydygraphs.subplot(2,1, title=\"PyDyGraphs Example Subplot\")\n",
    "\n",
    "# Form data for plot 1\n",
    "x = np.array(range(100))\n",
    "y1 = [np.sin(np.array(range(100)) * np.pi / 180.), np.sin(np.array(range(100)) * np.pi / 360)]\n",
    "\n",
    "# Plot figure 1\n",
    "fig1.plot(x,y1)\n",
    "fig1.title(\"Figure 1\")\n",
    "fig1.xlabel('Series')\n",
    "fig1.ylabel('Value')\n",
    "\n",
    "# Form data for plot 2\n",
    "y2 = [np.sin(np.random.rand(100))]\n",
    "\n",
    "# Plot figure 2\n",
    "fig2.plot(x, y2, ylabels=[\"Random Variable\"], color=['orange'], rangeselector=True, showroller=False)\n",
    "fig2.title(\"Figure 2\")\n",
    "fig2.xlabel('Series')\n",
    "fig2.ylabel('Value')\n",
    "\n",
    "# Show plots:\n",
    "fig1.show()\n",
    "fig2.show()"
   ]
  },
  {
   "cell_type": "code",
   "execution_count": 8,
   "metadata": {},
   "outputs": [
    {
     "data": {
      "text/html": [
       "\n",
       "    <script src=\"http://dygraphs.com/dygraph-combined.js\"></script>\n",
       "    <table style=\"width: 1050px; border-style: hidden;\">\n",
       "    <tr><td style=\"border-style: hidden;\"><div id='Figure7' style=\"width: 1050px; height: 400px;\"></div></td></tr>\n",
       "    <tr><td style=\"border-style: hidden;\"><div style=\"text-align:right; width: 1050px; height: auto;\"; id='Figure7_legend'></div></td></tr>\n",
       "    </table>\n",
       "    "
      ],
      "text/plain": [
       "<IPython.core.display.HTML object>"
      ]
     },
     "metadata": {},
     "output_type": "display_data"
    },
    {
     "data": {
      "text/html": [
       "\n",
       "        <script type=\"text/javascript\">\n",
       "        function convertToDataTable_Figure7(d) {\n",
       "          var columns = _.keys(d);\n",
       "          var x_col = 'a';\n",
       "          columns.splice(columns.indexOf(x_col), 1);  // Get index column. (prob index). Don't need to do this just to plot all\n",
       "          var out = [];\n",
       "          var i = 0;\n",
       "          for (var k in d[x_col]) {\n",
       "            var row = [d[x_col][k]];\n",
       "            columns.forEach(function(col) {\n",
       "              row.push(d[col][k]);\n",
       "            });\n",
       "            out.push(row);\n",
       "          }\n",
       "          return {data:out, labels:[x_col].concat(columns)};\n",
       "        }\n",
       "\n",
       "        function handle_output_Figure7(out) {\n",
       "          var json = out.content.data['text/plain'];\n",
       "          var data = JSON.parse(eval(json));\n",
       "          var tabular = convertToDataTable_Figure7(data);\n",
       "          \n",
       "            g = new Dygraph(document.getElementById('Figure7'), tabular.data, {\n",
       "                legend: 'always',\n",
       "                labels: tabular.labels,\n",
       "                labelsDivStyles: { 'textAlign': 'right' },\n",
       "                rollPeriod: 1,\n",
       "                showRoller: true,\n",
       "                animatedZooms: true,\n",
       "            \n",
       "                showRoller: true,\n",
       "            \n",
       "                title: 'Dataframe Example',\n",
       "                xlabel: 'a',\n",
       "            \n",
       "                ylabel: 'Units of Awesome',\n",
       "            \n",
       "               labelsDiv: 'Figure7_legend',\n",
       "               errorBars: false\n",
       "          })\n",
       "        }\n",
       "        var kernel = IPython.notebook.kernel;\n",
       "        var callbacks_Figure7 = { 'iopub' : {'output' : handle_output_Figure7}};\n",
       "        kernel.execute(\"pydygraphs.__PYDYGRAPH__FIGURE__JSON__[7]\", callbacks_Figure7, {silent:false});\n",
       "        </script>\n",
       "        "
      ],
      "text/plain": [
       "<IPython.core.display.HTML object>"
      ]
     },
     "metadata": {},
     "output_type": "display_data"
    }
   ],
   "source": [
    "## Dataframe example\n",
    "import pandas as pd\n",
    "import numpy as np\n",
    "\n",
    "# Form a dataframe\n",
    "df = pd.DataFrame(columns=['a','b','c'])\n",
    "df.a=np.arange(1000)\n",
    "df.b=np.sin(df.a*0.02*np.pi/10) + (np.random.ranf(size=len(df.a))-0.5)*0.25\n",
    "df.c=np.cos(df.a*np.pi/5)\n",
    "\n",
    "# Create a plot directly from a Pandas dataframe\n",
    "fig3 = pydygraphs.figure()\n",
    "xaxis = 'a'\n",
    "fig3.plotDataFrame(df,xaxis)\n",
    "fig3.xlabel('a');fig3.ylabel('Units of Awesome');fig3.title('Dataframe Example')\n",
    "fig3.show()"
   ]
  },
  {
   "cell_type": "code",
   "execution_count": null,
   "metadata": {},
   "outputs": [],
   "source": [
    "print (pydygraphs.__PYDYGRAPH__DYGRAPHS_LIB_STRING__)"
   ]
  },
  {
   "cell_type": "code",
   "execution_count": null,
   "metadata": {
    "collapsed": true
   },
   "outputs": [],
   "source": []
  }
 ],
 "metadata": {
  "kernelspec": {
   "display_name": "Python 3",
   "language": "python",
   "name": "python3"
  },
  "language_info": {
   "codemirror_mode": {
    "name": "ipython",
    "version": 3
   },
   "file_extension": ".py",
   "mimetype": "text/x-python",
   "name": "python",
   "nbconvert_exporter": "python",
   "pygments_lexer": "ipython3",
   "version": "3.6.1"
  }
 },
 "nbformat": 4,
 "nbformat_minor": 1
}
